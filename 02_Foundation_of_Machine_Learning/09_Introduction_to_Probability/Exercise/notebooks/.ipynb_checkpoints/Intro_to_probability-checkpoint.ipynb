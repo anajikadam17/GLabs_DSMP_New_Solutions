{
 "cells": [
  {
   "cell_type": "markdown",
   "metadata": {},
   "source": [
    "<h1 align=\"center\">**Introduction to Probability** </h1>\n",
    "<br/>"
   ]
  },
  {
   "cell_type": "markdown",
   "metadata": {},
   "source": [
    "## Practice problem based on Bayes Teorem"
   ]
  },
  {
   "cell_type": "markdown",
   "metadata": {},
   "source": [
    "Q1. Box P has 3 red balls and 2 blue balls and box Q has 4 red balls and 2 blue ball. A ball is selected as follows:\n",
    "\n",
    "```python\n",
    "(i)  Select a box\n",
    "(ii) Choose a ball from the selected box such that each ball in\n",
    "     the box is equally likely to be chosen. The probabilities of\n",
    "     selecting boxes P and Q are (1/3) and (2/3), respectively.\n",
    "```\n",
    "Given that a ball selected in the above process is a red ball, the probability that it came from the box P \n",
    "is i.e we need to calculate P(P|R)?\n",
    "\n",
    "$P(P|R) = \\frac{P(R|P)P(P)}{P(R)}$\n",
    "\n",
    "```python\n",
    "(A) 9/29 or 0.31\n",
    "(B) 5/19 or 0.26\n",
    "(C) 4/9 or 0.44\n",
    "(D) 29/45 or 0.64\n",
    "```"
   ]
  },
  {
   "cell_type": "code",
   "execution_count": 13,
   "metadata": {},
   "outputs": [
    {
     "name": "stdout",
     "output_type": "stream",
     "text": [
      "0.64\n",
      "Probability of red ball that came out from box p :  0.31\n"
     ]
    }
   ],
   "source": [
    "#R --> Event that red ball is selected\n",
    "#B --> Event that blue ball is selected\n",
    "#P --> Event that box P is selected\n",
    "#Q --> Event that box Q is selected\n",
    "\n",
    "\n",
    "# A red ball selected from box P\n",
    "redball_boxp = 3/5\n",
    "boxp = 1/3\n",
    "boxq = 2/3\n",
    "redball_boxq = 4/6\n",
    "\n",
    "redball = boxp*redball_boxp + boxq*redball_boxq\n",
    "print(round(redball,2))\n",
    "\n",
    "#Putting above values in the Bayes's Formula\n",
    "boxp_redball = (redball_boxp*boxp) / redball\n",
    "\n",
    "print(\"Probability of red ball that came out from box p : \",round(boxp_redball,2))"
   ]
  },
  {
   "cell_type": "markdown",
   "metadata": {},
   "source": [
    "Q2. In a class of 300 seniors, 106 study Spanish, 100 study Chemistry, 178 study Mathematics, 6 study Spanish and Chemistry, 46 study Chemistry and Math, 6 study Math and Spanish and 16 study all three subjects. Make a Venn diagram to illustrate the data and then find the probability that a student selected at random studies:\n",
    "```python\n",
    "1. Who study just Spanish\n",
    "2. Who study Math and Chemistry but not Spanish\n",
    "3. Who study none of the these subjects\n",
    "\n",
    "```\n",
    "![](../images/venn.png)"
   ]
  },
  {
   "cell_type": "code",
   "execution_count": 3,
   "metadata": {},
   "outputs": [
    {
     "name": "stdout",
     "output_type": "stream",
     "text": [
      "Just Spanish:  0.26\n",
      "Math and Chemistry but no Spanish:  0.1067\n",
      "None of the subjects:  0.0167\n"
     ]
    }
   ],
   "source": [
    "# just Spanish\n",
    "\n",
    "P_just_spanish=78/300\n",
    "print(\"Just Spanish: \", round(P_just_spanish,4))\n",
    "\n",
    "# Math and Chemistry but not Spanish\n",
    "\n",
    "P_math_chem =46/300\n",
    "print(\"Math and Chemistry but no Spanish: \",round(P_math_chem,4))\n",
    "\n",
    "# none of these subjects\n",
    "\n",
    "P_none_subject=6/300\n",
    "print(\"None of the subjects: \",round(P_none_subject,4))\n",
    "\n"
   ]
  },
  {
   "cell_type": "markdown",
   "metadata": {},
   "source": [
    "## Quiz\n",
    "\n",
    "Q1. Which of these numbers cannot be a probability? \n",
    "```python\n",
    "a) -0.00001 \n",
    "b) 0.5 \n",
    "c) 1.001 \n",
    "d) 0 \n",
    "e) 1 \n",
    "f) 20% \n",
    "Ans:- a,c\n",
    "```\n",
    "\n",
    "Q2. When an event A independent of itself?\n",
    "\n",
    "```python\n",
    "A) Always\n",
    "B) If and only if P(A)=0\n",
    "C) If and only if P(A)=1\n",
    "D) If and only if P(A)=0 or 1\n",
    "Ans:- D\n",
    "\n",
    "The event can only be independent of itself when either there is no chance of it happening or when it is certain to happen. Event A and B is independent when P(AꓵB) = P(A)*P(B). Now if B=A, P(AꓵA) = P(A) when P(A) = 0 or 1.\n",
    "```\n",
    "\n",
    "Q3. Which of the following events is most likely? \n",
    "\n",
    "```python\n",
    "A) At least one 6, when 6 dice are rolled\n",
    "B) At least 2 sixes when 12 dice are rolled\n",
    "C) At least 3 sixes when 18 dice are rolled\n",
    "D) All the above have same probability\n",
    "Ans:- A\n",
    "\n",
    "Probability of ‘6’ turning up in a roll of dice is P(6) = (1/6) & P(6’) = (5/6). Thus, probability of\n",
    "\n",
    "* Case 1: (1/6) * (5/6)5 = 0.06698\n",
    "* Case 2: (1/6)2 * (5/6)10 = 0.00448\n",
    "* Case 3: (1/6)3 * (5/6)15 = 0.0003\n",
    "\n",
    "Thus, the highest probability is Case 1\n",
    "```\n",
    "\n",
    "Q4. There are a total of 8 bows of 2 each of green, yellow, orange & red. In how many ways can you select 1 bow? \n",
    "\n",
    "![](../images/bow.jpg)\n",
    "\n",
    "```python\n",
    "A) 1\n",
    "B) 2\n",
    "C) 4\n",
    "D) 8\n",
    "Ans:- C\n",
    "```\n",
    "\n",
    "Q5. A fly has a life between 4-6 days. What is the probability that the fly will die at exactly 5 days?\n",
    "\n",
    "```python\n",
    "A) 1/2\n",
    "B) 1/4\n",
    "C) 1/3\n",
    "D) 0\n",
    "Ans: D\n",
    "\n",
    "Here since the probabilities are continuous, the probabilities form a mass function. The probability of a certain event is calculated by finding the area under the curve for the given conditions. Here since we’re trying to calculate the probability of the fly dying at exactly 5 days – the area under the curve would be 0. Also to come to think of it, the probability if dying at exactly 5 days is impossible for us to even figure out since we cannot measure with infinite precision if it was exactly 5 days.\n",
    "```\n",
    "\n",
    "\n"
   ]
  },
  {
   "cell_type": "markdown",
   "metadata": {
    "slideshow": {
     "slide_type": "slide"
    }
   },
   "source": [
    "# Thank You\n",
    "***\n",
    "### Next Session: Exploratory Data Analysis\n",
    "For more queries - Reach out to academics@greyatom.com "
   ]
  }
 ],
 "metadata": {
  "anaconda-cloud": {},
  "celltoolbar": "Slideshow",
  "kernelspec": {
   "display_name": "Python 3",
   "language": "python",
   "name": "python3"
  },
  "language_info": {
   "codemirror_mode": {
    "name": "ipython",
    "version": 3
   },
   "file_extension": ".py",
   "mimetype": "text/x-python",
   "name": "python",
   "nbconvert_exporter": "python",
   "pygments_lexer": "ipython3",
   "version": "3.7.0"
  },
  "widgets": {
   "state": {},
   "version": "1.1.2"
  }
 },
 "nbformat": 4,
 "nbformat_minor": 2
}
