{
 "cells": [
  {
   "cell_type": "markdown",
   "metadata": {
    "slideshow": {
     "slide_type": "slide"
    }
   },
   "source": [
    "<h1 align=\"center\">Summarizing Data with Statistics </h1>"
   ]
  },
  {
   "cell_type": "markdown",
   "metadata": {
    "slideshow": {
     "slide_type": "subslide"
    }
   },
   "source": [
    "<img src=\"../images/Probability-and-Statistics.png\" alt=\"Python\" style=\"width: 400px;\"/>"
   ]
  },
  {
   "cell_type": "markdown",
   "metadata": {
    "slideshow": {
     "slide_type": "subslide"
    }
   },
   "source": [
    "## When is the mean the best measure of central tendency?\n",
    "***\n",
    "\n",
    "- The mean is usually the best measure of central tendency to use when your data distribution is continuous and symmetrical, such as when your data is normally distributed. \n",
    "\n",
    "- However, it all depends on what you are trying to show from your data.\n",
    "\n",
    "- You will learn about Normal Distributions in Inferential Statistics "
   ]
  },
  {
   "cell_type": "markdown",
   "metadata": {
    "slideshow": {
     "slide_type": "subslide"
    }
   },
   "source": [
    "## When is the mode the best measure of central tendency?\n",
    "***\n",
    "\n",
    "- The mode is the least used of the measures of central tendency \n",
    "\n",
    "- The mode will be the best measure of central tendency (as it is the only one appropriate to use) when dealing with nominal data. \n",
    "\n",
    "- The mean and/or median are usually preferred when dealing with all other types of data, but this does not mean it is never used with these data types"
   ]
  },
  {
   "cell_type": "markdown",
   "metadata": {
    "slideshow": {
     "slide_type": "subslide"
    }
   },
   "source": [
    "### What is nominal data?\n",
    "***\n",
    "\n",
    "- Nominal variables are categorical variables that have two or more categories, but which do not have an intrinsic order. \n",
    "\n",
    "- For example\n",
    "    - a real estate agent could classify their types of property into distinct categories such as houses, condos, co-ops or bungalows. So \"type of property\" is a nominal variable with 4 categories called houses, condos, co-ops and bungalows.\n",
    "\n",
    "- Of note, the different categories of a nominal variable can also be referred to as groups or levels of the nominal variable.         "
   ]
  },
  {
   "cell_type": "markdown",
   "metadata": {
    "slideshow": {
     "slide_type": "subslide"
    }
   },
   "source": [
    "## When is the median the best measure of central tendency?\n",
    "\n",
    "- The median is usually preferred to other measures of central tendency when your data set is skewed (i.e., forms a skewed distribution) or you are dealing with ordinal data. \n",
    "\n",
    "- We already know what skewed data is! \n",
    "\n",
    "\n",
    "- However, the mode can also be appropriate in these situations, but **IS NOT** as commonly used as the median."
   ]
  },
  {
   "cell_type": "markdown",
   "metadata": {
    "slideshow": {
     "slide_type": "subslide"
    }
   },
   "source": [
    "## What is the most appropriate measure of central tendency when the data has outliers?\n",
    "\n",
    "- The median is usually preferred in these situations because the value of the mean can be distorted by the outliers. \n",
    "\n",
    "- However, it will depend on how influential the outliers are. If they do not significantly distort the mean, using the mean as the measure of central tendency will usually be preferred."
   ]
  },
  {
   "cell_type": "markdown",
   "metadata": {
    "slideshow": {
     "slide_type": "subslide"
    }
   },
   "source": [
    "### In a normally distributed data set, which is greatest: mode, median or mean?\n",
    "\n",
    "- If the data set is perfectly normal, the mean, median and mean are equal to each other (i.e., the same value).\n",
    "\n",
    "### For any data set, which measures of central tendency have only one value?\n",
    "\n",
    "- The median and mean can only have one value for a given data set. The mode can have more than one value"
   ]
  },
  {
   "cell_type": "code",
   "execution_count": 31,
   "metadata": {},
   "outputs": [
    {
     "data": {
      "text/html": [
       "<div>\n",
       "<style scoped>\n",
       "    .dataframe tbody tr th:only-of-type {\n",
       "        vertical-align: middle;\n",
       "    }\n",
       "\n",
       "    .dataframe tbody tr th {\n",
       "        vertical-align: top;\n",
       "    }\n",
       "\n",
       "    .dataframe thead th {\n",
       "        text-align: right;\n",
       "    }\n",
       "</style>\n",
       "<table border=\"1\" class=\"dataframe\">\n",
       "  <thead>\n",
       "    <tr style=\"text-align: right;\">\n",
       "      <th></th>\n",
       "      <th>Date/Time</th>\n",
       "      <th>Temp (C)</th>\n",
       "      <th>Dew Point Temp (C)</th>\n",
       "      <th>Rel Hum (%)</th>\n",
       "      <th>Wind Spd (km/h)</th>\n",
       "      <th>Visibility (km)</th>\n",
       "      <th>Stn Press (kPa)</th>\n",
       "      <th>Weather</th>\n",
       "    </tr>\n",
       "  </thead>\n",
       "  <tbody>\n",
       "    <tr>\n",
       "      <th>0</th>\n",
       "      <td>2012-01-01 00:00:00</td>\n",
       "      <td>-1.8</td>\n",
       "      <td>-3.9</td>\n",
       "      <td>86</td>\n",
       "      <td>4</td>\n",
       "      <td>8.0</td>\n",
       "      <td>101.24</td>\n",
       "      <td>Fog</td>\n",
       "    </tr>\n",
       "    <tr>\n",
       "      <th>1</th>\n",
       "      <td>2012-01-01 01:00:00</td>\n",
       "      <td>-1.8</td>\n",
       "      <td>-3.7</td>\n",
       "      <td>87</td>\n",
       "      <td>4</td>\n",
       "      <td>8.0</td>\n",
       "      <td>101.24</td>\n",
       "      <td>Fog</td>\n",
       "    </tr>\n",
       "    <tr>\n",
       "      <th>2</th>\n",
       "      <td>2012-01-01 02:00:00</td>\n",
       "      <td>-1.8</td>\n",
       "      <td>-3.4</td>\n",
       "      <td>89</td>\n",
       "      <td>7</td>\n",
       "      <td>4.0</td>\n",
       "      <td>101.26</td>\n",
       "      <td>Freezing Drizzle,Fog</td>\n",
       "    </tr>\n",
       "    <tr>\n",
       "      <th>3</th>\n",
       "      <td>2012-01-01 03:00:00</td>\n",
       "      <td>-1.5</td>\n",
       "      <td>-3.2</td>\n",
       "      <td>88</td>\n",
       "      <td>6</td>\n",
       "      <td>4.0</td>\n",
       "      <td>101.27</td>\n",
       "      <td>Freezing Drizzle,Fog</td>\n",
       "    </tr>\n",
       "    <tr>\n",
       "      <th>4</th>\n",
       "      <td>2012-01-01 04:00:00</td>\n",
       "      <td>-1.5</td>\n",
       "      <td>-3.3</td>\n",
       "      <td>88</td>\n",
       "      <td>7</td>\n",
       "      <td>4.8</td>\n",
       "      <td>101.23</td>\n",
       "      <td>Fog</td>\n",
       "    </tr>\n",
       "  </tbody>\n",
       "</table>\n",
       "</div>"
      ],
      "text/plain": [
       "             Date/Time  Temp (C)  Dew Point Temp (C)  Rel Hum (%)  \\\n",
       "0  2012-01-01 00:00:00      -1.8                -3.9           86   \n",
       "1  2012-01-01 01:00:00      -1.8                -3.7           87   \n",
       "2  2012-01-01 02:00:00      -1.8                -3.4           89   \n",
       "3  2012-01-01 03:00:00      -1.5                -3.2           88   \n",
       "4  2012-01-01 04:00:00      -1.5                -3.3           88   \n",
       "\n",
       "   Wind Spd (km/h)  Visibility (km)  Stn Press (kPa)               Weather  \n",
       "0                4              8.0           101.24                   Fog  \n",
       "1                4              8.0           101.24                   Fog  \n",
       "2                7              4.0           101.26  Freezing Drizzle,Fog  \n",
       "3                6              4.0           101.27  Freezing Drizzle,Fog  \n",
       "4                7              4.8           101.23                   Fog  "
      ]
     },
     "execution_count": 31,
     "metadata": {},
     "output_type": "execute_result"
    }
   ],
   "source": [
    "import pandas as pd\n",
    "df = pd.read_csv('../data/weather_2012.csv')\n",
    "df.head()"
   ]
  },
  {
   "cell_type": "markdown",
   "metadata": {},
   "source": [
    "<img src=\"../images/icon/ppt-icons.png\" alt=\"Concept-Alert\" style=\"width: 100px;float:left; margin-right:15px\"/>\n",
    "<br /> \n",
    "\n",
    "##  Mini-Challenge - 1\n",
    "***\n",
    "### Instructions\n",
    "* Weather data is already been defined for you in the variable `df`\n",
    "* In the weather dataset, find the mean and median for Visibilty and Dew Point Temperature columns."
   ]
  },
  {
   "cell_type": "code",
   "execution_count": 6,
   "metadata": {},
   "outputs": [
    {
     "name": "stdout",
     "output_type": "stream",
     "text": [
      "Visibility (km) => Mean:  27.66444672131151   Median:  25.0\n",
      "Dew Point Temperature => Mean:  2.555293715847001   Median:  3.3\n"
     ]
    }
   ],
   "source": [
    "Visibility_mean = df['Visibility (km)'].mean()\n",
    "Visibility_median = df['Visibility (km)'].median()\n",
    "\n",
    "Temperature_mean = df['Dew Point Temp (C)'].mean()\n",
    "Temperature_median = df['Dew Point Temp (C)'].median()\n",
    "\n",
    "print(\"Visibility (km) => Mean: \",Visibility_mean,end='   ')\n",
    "print(\"Median: \",Visibility_median)\n",
    "\n",
    "print(\"Dew Point Temperature => Mean: \",Temperature_mean,end='   ')\n",
    "print(\"Median: \",Temperature_median)"
   ]
  },
  {
   "cell_type": "markdown",
   "metadata": {},
   "source": [
    "<img src=\"../images/icon/ppt-icons.png\" alt=\"Concept-Alert\" style=\"width: 100px;float:left; margin-right:15px\"/>\n",
    "<br /> \n",
    "\n",
    "##  Mini-Challenge - 2\n",
    "***\n",
    "### Instructions\n",
    "* In the weather dataset, find the mode for the `Weather` column"
   ]
  },
  {
   "cell_type": "code",
   "execution_count": 10,
   "metadata": {},
   "outputs": [
    {
     "name": "stdout",
     "output_type": "stream",
     "text": [
      "Mode for Weather :  Mainly Clear\n"
     ]
    }
   ],
   "source": [
    "Weather_mode = df['Weather'].mode()\n",
    "print('Mode for Weather : ',Weather_mode[0])"
   ]
  },
  {
   "cell_type": "markdown",
   "metadata": {},
   "source": [
    "<img src=\"../images/icon/ppt-icons.png\" alt=\"Concept-Alert\" style=\"width: 100px;float:left; margin-right:15px\"/>\n",
    "<br /> \n",
    "\n",
    "##  Mini-Challenge - 3\n",
    "***\n",
    "### Instructions\n",
    "* Plot the histogram of the Wind Speed and Temperature columns and check which one is skewed.\n",
    "* Remember to add labels and title."
   ]
  },
  {
   "cell_type": "code",
   "execution_count": 14,
   "metadata": {},
   "outputs": [
    {
     "data": {
      "image/png": "[encoded data removed]",
      "text/plain": [
       "<Figure size 720x360 with 2 Axes>"
      ]
     },
     "metadata": {},
     "output_type": "display_data"
    }
   ],
   "source": [
    "import matplotlib.pyplot as plt\n",
    "plt.figure(figsize=[10,5],)\n",
    "\n",
    "plt.subplot(1,2,1)\n",
    "plt.title('Wind Speed Plot')\n",
    "plt.hist(df['Wind Spd (km/h)'])\n",
    "plt.xlabel('Wind Speed (km/h)')\n",
    "plt.ylabel('Frequency')\n",
    "plt.subplot(1,2,2)\n",
    "plt.title('Temperature Plot')\n",
    "plt.hist(df['Temp (C)'])\n",
    "plt.xlabel(\"Temperature\");\n",
    "plt.show()"
   ]
  },
  {
   "cell_type": "markdown",
   "metadata": {},
   "source": [
    "<img src=\"../images/icon/ppt-icons.png\" alt=\"Concept-Alert\" style=\"width: 100px;float:left; margin-right:15px\"/>\n",
    "<br /> \n",
    "\n",
    "##  Mini-Challenge - 4\n",
    "***\n",
    "### Instructions\n",
    "- Draw a boxplot for `Dew Point Temp (C)` grouped by month."
   ]
  },
  {
   "cell_type": "code",
   "execution_count": 40,
   "metadata": {},
   "outputs": [
    {
     "data": {
      "text/plain": [
       "<matplotlib.axes._subplots.AxesSubplot at 0x18f7e9c1c50>"
      ]
     },
     "execution_count": 40,
     "metadata": {},
     "output_type": "execute_result"
    },
    {
     "data": {
      "image/png": "[encoded data removed]",
      "text/plain": [
       "<matplotlib.figure.Figure at 0x18f7e9fd710>"
      ]
     },
     "metadata": {
      "needs_background": "light"
     },
     "output_type": "display_data"
    }
   ],
   "source": [
    "df['month']=pd.to_datetime(df['Date/Time']).dt.month\n",
    "df.boxplot(column=['Dew Point Temp (C)'],by=['month'],figsize=(15,15))"
   ]
  },
  {
   "cell_type": "markdown",
   "metadata": {},
   "source": [
    "<img src=\"../images/icon/ppt-icons.png\" alt=\"Concept-Alert\" style=\"width: 100px;float:left; margin-right:15px\"/>\n",
    "<br /> \n",
    "\n",
    "##  Mini-Challenge - 5\n",
    "***\n",
    "### Instructions\n",
    "* Find out the variance and standard deviation for Temperature column."
   ]
  },
  {
   "cell_type": "code",
   "execution_count": 38,
   "metadata": {},
   "outputs": [
    {
     "name": "stdout",
     "output_type": "stream",
     "text": [
      "Variance:  118.44126310397384\n",
      "Standard deviation:  10.883072319155737\n"
     ]
    }
   ],
   "source": [
    "variance = df['Dew Point Temp (C)'].var()\n",
    "standard_deviation = np.sqrt(variance)\n",
    "print(\"Variance: \",variance)\n",
    "print(\"Standard deviation: \",standard_deviation)"
   ]
  },
  {
   "cell_type": "markdown",
   "metadata": {},
   "source": [
    "<img src=\"../images/icon/ppt-icons.png\" alt=\"Concept-Alert\" style=\"width: 100px;float:left; margin-right:15px\"/>\n",
    "<br /> \n",
    "\n",
    "##  Mini-Challenge - 6\n",
    "***\n",
    "### Instructions\n",
    "* Find out the correlation between all the continuous features in the weather dataset and plot a heatmap using Seaborn."
   ]
  },
  {
   "cell_type": "code",
   "execution_count": 39,
   "metadata": {},
   "outputs": [
    {
     "data": {
      "image/png": "[encoded data removed]",
      "text/plain": [
       "<matplotlib.figure.Figure at 0x18f71d9af28>"
      ]
     },
     "metadata": {
      "needs_background": "light"
     },
     "output_type": "display_data"
    }
   ],
   "source": [
    "import seaborn as sns\n",
    "correlation = df.corr()\n",
    "sns.heatmap(correlation);"
   ]
  },
  {
   "cell_type": "markdown",
   "metadata": {},
   "source": [
    "## Quiz\n",
    "\n",
    "1) Which of these measures are used to analyze the central tendency of data?\n",
    "\n",
    "```python\n",
    "A) Mean and Normal Distribution\n",
    "B) Mean, Median and Mode\n",
    "C) Mode, Alpha & Range\n",
    "D) Standard Deviation, Range and Mean\n",
    "E) Median, Range and Normal Distribution\n",
    "Solution: (B)\n",
    "```\n",
    "\n",
    "2) Five numbers are given: (5, 10, 15, 5, 15). Now, what would be the sum of deviations of individual data points from their mean?\n",
    "\n",
    "```python\n",
    "A) 10\n",
    "B) 25\n",
    "C) 50\n",
    "D) 0\n",
    "E) None of the above\n",
    "Solution: (D)\n",
    "The sum of deviations of the individual will always be 0.\n",
    "```\n",
    "\n",
    "4) Which of the following measures of central tendency will always change if a single value in the data changes?\n",
    "\n",
    "```python\n",
    "A) Mean\n",
    "B) Median\n",
    "C) Mode\n",
    "D) All of these\n",
    "Solution: (A)\n",
    "The mean of the dataset would always change if we change any value of the data set. Since we are summing up all the values together to get it, every value of the data set contributes to its value. Median and mode may or may not \n",
    "change with altering a single value in the dataset.\n",
    "```\n",
    "\n",
    "5) If a positively skewed distribution has a median of 50, which of the following statement is true?\n",
    "\n",
    "```python\n",
    "A) Mean is greater than 50\n",
    "B) Mean is less than 50\n",
    "C) Mode is less than 50\n",
    "D) Mode is greater than 50\n",
    "E) Both A and C\n",
    "F) Both B and D\n",
    "\n",
    "Solution: (E)\n",
    "\n",
    "Below are the distributions for Negatively, Positively and no skewed curves.\n",
    "```\n",
    "<img src=\"../images/Stats1.png\" alt=\"Python\" style=\"width: 500px;\"/>\n",
    "\n",
    "```python\n",
    "As we can see for a positively skewed curve, Mode<Median<Mean. So if median is 50, mean would be more than 50 and mode will be less than 50.\n",
    "```"
   ]
  },
  {
   "cell_type": "code",
   "execution_count": null,
   "metadata": {},
   "outputs": [],
   "source": []
  },
  {
   "cell_type": "markdown",
   "metadata": {
    "slideshow": {
     "slide_type": "slide"
    }
   },
   "source": [
    "# Thank You\n",
    "***\n",
    "\n",
    "### Next Session: Basic Probability, Hypothesis Testing, t-test e.t.c\n",
    "For more queries - Reach out to [academics@greyatom.com](academics@greyatom.com)"
   ]
  }
 ],
 "metadata": {
  "anaconda-cloud": {},
  "celltoolbar": "Slideshow",
  "kernelspec": {
   "display_name": "Python 3",
   "language": "python",
   "name": "python3"
  },
  "language_info": {
   "codemirror_mode": {
    "name": "ipython",
    "version": 3
   },
   "file_extension": ".py",
   "mimetype": "text/x-python",
   "name": "python",
   "nbconvert_exporter": "python",
   "pygments_lexer": "ipython3",
   "version": "3.7.1"
  },
  "widgets": {
   "state": {},
   "version": "1.1.2"
  }
 },
 "nbformat": 4,
 "nbformat_minor": 2
}
